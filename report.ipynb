{
 "cells": [
  {
   "attachments": {},
   "cell_type": "markdown",
   "metadata": {},
   "source": [
    "# Correlation between planted trees in Berlin and speed limits\n",
    "\n",
    "This projects aims to analyzes the correlation between planted trees and speed limits in Berlin. The goal is to see if there is a correlation between the two and if so, how strong it is.\n",
    "\n",
    "## Datasources\n",
    "\n",
    "### Datasource 1: Baumbestand - Berlin - [WFS]\n",
    "- Metadata URL: https://mobilithek.info/offers/-5687470862699743129\n",
    "- Data URL: https://fbinter.stadt-berlin.de/fb/wfs/data/senstadt/s_wfs_baumbestand\n",
    "- Data Type: WFS_SRVC\n",
    "\n",
    "Planted (streets-)trees in Berlin.\n",
    "\n",
    "### Datasource 2: Tempolimits - Berlin - [WFS]\n",
    "- Metadata URL: https://mobilithek.info/offers/-8613064499673471355\n",
    "- Data URL: https://fbinter.stadt-berlin.de/fb/wfs/data/senstadt/s_vms_tempolimits_spatial\n",
    "- Data Type: WFS_SRVC\n",
    "- Description: Speed Limits in Berlin. \n",
    "\n",
    "Important notes: Only speedlimits that are different from the default speed limit of 50km/h are listed. Therefor we need another datasource to get the streets with the default speed limit.\n",
    "\n",
    "### Datasource 3: Traffic Network - Berlin - [WFS]\n",
    "- Metadata URL: https://fbinter.stadt-berlin.de/fb/index.jsp\n",
    "- Data URL: https://fbinter.stadt-berlin.de/fb/wfs/data/senstadt/s_vms_detailnetz_spatial_gesamt\n",
    "- Data Type: WFS_SRVC\n",
    "- Description: Traffic network in Berlin.\n",
    "\n",
    "Important notes: We use this dataset (filtered for only (car-)streets) and inject the speed limits from datasource 2 into it, defaulting to 50km/h if no speed limit is found.\n",
    "\n",
    "\n",
    "## Question and Hypothesis \n",
    "Is there a correlation between planted trees and speed limits in Berlin? If so, how strong is it and does the type of tree have an influence on the correlation?\n",
    "\n",
    "My initial Hypothesis is that there is a small negative correlation between speed limits and planted trees. Thereby affecting the city landscape in two positive ways, by reducing the speed of cars and making cities greener. "
   ]
  },
  {
   "attachments": {},
   "cell_type": "markdown",
   "metadata": {},
   "source": [
    "## Outline\n",
    "1. Install required dependencies\n",
    "2. Load the preprocessed data\n",
    "3. Visualize the data on a map of Berlin\n",
    "4. Calculate correlation between planted trees and speed limits\n",
    "5. Visualize the correlation between planted trees and speed limits\n",
    "6. Conclusion & Outlook"
   ]
  },
  {
   "attachments": {},
   "cell_type": "markdown",
   "metadata": {},
   "source": [
    "### 1. Install required dependencies\n",
    "Initially, install all required dependencies. We use requirements.txt to manage dependencies."
   ]
  },
  {
   "cell_type": "code",
   "execution_count": null,
   "metadata": {},
   "outputs": [],
   "source": [
    "%%capture\n",
    "%pip install -r requirements.txt"
   ]
  },
  {
   "attachments": {},
   "cell_type": "markdown",
   "metadata": {},
   "source": [
    "### 2. Load the preprocessed data\n",
    "Create geopandas dataframes using the preprocessed data from the data pipeline. \n",
    "If some data is missing, the data pipeline will be executed again."
   ]
  },
  {
   "cell_type": "code",
   "execution_count": 1,
   "metadata": {},
   "outputs": [],
   "source": [
    "import geopandas as gpd\n",
    "import os\n",
    "\n",
    "if (not os.path.exists(\"data/trees.geojson\") \n",
    "or not os.path.exists(\"data/streets.geojson\") \n",
    "or not os.path.exists(\"data/speed_limits.geojson\") \n",
    "or not os.path.exists(\"data/merged_data.geojson\")):\n",
    "    os.chdir(\"data\")\n",
    "    os.system(\"python pipeline.py\")\n",
    "    os.chdir(\"..\")\n",
    "\n",
    "trees: gpd.GeoDataFrame = gpd.read_file(\"data/trees.geojson\")\n",
    "streets: gpd.GeoDataFrame = gpd.read_file(\"data/streets.geojson\")\n",
    "speed_limits: gpd.GeoDataFrame = gpd.read_file(\"data/speed_limits.geojson\")\n",
    "merged_data: gpd.GeoDataFrame = gpd.read_file(\"data/merged_data.geojson\")"
   ]
  },
  {
   "attachments": {},
   "cell_type": "markdown",
   "metadata": {},
   "source": [
    "### 3. Visualize the data on a map of Berlin\n",
    "We color all streets according to their speed limits."
   ]
  },
  {
   "cell_type": "code",
   "execution_count": null,
   "metadata": {},
   "outputs": [],
   "source": [
    "import plotly.io as pio\n",
    "import plotly.express as px\n",
    "import shapely\n",
    "import numpy as np\n",
    "\n",
    "pio.renderers.default = \"notebook\"\n",
    "\n",
    "# Prepare data for plotting\n",
    "merged_data['speed_limit'] = merged_data['speed_limit'].astype(float)\n",
    "unique_streets = merged_data[~merged_data[\"elem_nr\"].duplicated(keep=\"last\")].sort_values(by=\"speed_limit\")\n",
    "trees_in_merged = trees[trees[\"id\"].isin(merged_data[\"id_y\"])]\n",
    "\n",
    "\n",
    "lats = []\n",
    "lons = []\n",
    "ids = []\n",
    "names = []\n",
    "speed_limits = []\n",
    "\n",
    "for ident, feature, name, speed_limit in zip(unique_streets.id_x, unique_streets.geometry, unique_streets.strassenname, unique_streets.speed_limit):    \n",
    "    if isinstance(feature, shapely.geometry.linestring.LineString):\n",
    "        linestrings = [feature]\n",
    "    elif isinstance(feature, shapely.geometry.multilinestring.MultiLineString):\n",
    "        linestrings = feature.geoms\n",
    "    else:\n",
    "        continue\n",
    "    for linestring in linestrings:\n",
    "        x, y = linestring.xy\n",
    "        lats = np.append(lats, y)\n",
    "        lons = np.append(lons, x)\n",
    "        ids = np.append(ids, [ident]*len(y))\n",
    "        names = np.append(names, [name]*len(y))\n",
    "        speed_limits = np.append(speed_limits, [speed_limit]*len(y))\n",
    "        lats = np.append(lats, None)\n",
    "        lons = np.append(lons, None)\n",
    "        ids = np.append(ids, None)\n",
    "        names = np.append(names, None)\n",
    "        speed_limits = np.append(speed_limits, None)\n",
    "\n",
    "fig = px.line_mapbox(lat=lats, \n",
    "                    lon=lons, \n",
    "                    hover_name=names, \n",
    "                    hover_data=[ids, speed_limits],\n",
    "                    color=speed_limits,\n",
    "                    color_discrete_map = {\n",
    "                        3.0: 'green',\n",
    "                        5.0: 'limegreen',\n",
    "                        7.0: 'lime',\n",
    "                        10.0: 'lightgreen',\n",
    "                        20.0: 'yellow',\n",
    "                        30.0: 'gold',\n",
    "                        40.0: 'orange',\n",
    "                        50.0: 'darkorange',\n",
    "                        60.0: 'orangered',\n",
    "                        70.0: 'red'\n",
    "                    },\n",
    "                    line_group=ids,\n",
    "                    zoom=15,\n",
    "                    height=800, \n",
    "                    width=1000, \n",
    "                    center={'lon':13.402149951382846, 'lat': 52.514327773853275})\n",
    "\n",
    "\n",
    "scatter_trace_in_joined = px.scatter_mapbox(trees_in_merged, \n",
    "                        lat=trees_in_merged.geometry.y,\n",
    "                        lon=trees_in_merged.geometry.x,\n",
    "                        #color='gattung_deutsch',\n",
    "                        hover_name=\"gattung_deutsch\",\n",
    "                        hover_data=[],\n",
    "                        size_max=1,\n",
    "                        opacity=0.3)\n",
    "\n",
    "\n",
    "\n",
    "\n",
    "for trace in scatter_trace_in_joined.data:\n",
    "    fig.add_trace(trace)\n",
    "\n",
    "\n",
    "\n",
    "fig.update_layout(mapbox_style='carto-positron', margin={\"r\":0,\"t\":0,\"l\":0,\"b\":0})\n",
    "fig.show()"
   ]
  },
  {
   "attachments": {},
   "cell_type": "markdown",
   "metadata": {},
   "source": [
    "### 4. Calculate correlation between planted trees and speed limits"
   ]
  },
  {
   "cell_type": "code",
   "execution_count": null,
   "metadata": {},
   "outputs": [],
   "source": [
    "import matplotlib.pyplot as plt\n",
    "\n",
    "def plot_speed_to_tree_count(df):\n",
    "    plt.scatter(df['speed_limit'], df['tree_count'])\n",
    "    plt.xlabel('Speed Limit')\n",
    "    plt.ylabel('Tree Count')\n",
    "    plt.title('Correlation between Speed Limit and Tree Count')\n",
    "    plt.show()\n",
    "\n",
    "\n",
    "# ensure that speed_limit is a float\n",
    "merged_data['speed_limit'] = merged_data['speed_limit'].astype(float)\n",
    "# aggregate data by street name\n",
    "aggregated_data = merged_data.groupby('strassenname').agg({'speed_limit': 'first', 'gattung_deutsch': 'count'}).reset_index()\n",
    "aggregated_data.rename(columns={'gattung_deutsch': 'tree_count'}, inplace=True)\n",
    "\n",
    "\n",
    "plot_speed_to_tree_count(aggregated_data)"
   ]
  },
  {
   "attachments": {},
   "cell_type": "markdown",
   "metadata": {},
   "source": [
    "##### Comments\n",
    "As we can see in the graph above we have some outliers, which are mostly Bundesautobahnen and Bundesstraßen. \n",
    "They are very long and therefor accumulate a lot of trees.\n",
    "As we are focusing more on the inner city, we filter them out and calculate the correlation between planted trees and speed limits."
   ]
  },
  {
   "cell_type": "code",
   "execution_count": null,
   "metadata": {},
   "outputs": [],
   "source": [
    "# Only consider Gemeindestraßen\n",
    "inner_city_data = merged_data.copy()[merged_data['strassenklasse'] == 'G']\n",
    "\n",
    "# aggregate data by street name\n",
    "aggregated_inner_data = inner_city_data.groupby('strassenname').agg({'speed_limit': 'first', 'gattung_deutsch': 'count'}).reset_index()\n",
    "aggregated_inner_data.rename(columns={'gattung_deutsch': 'tree_count'}, inplace=True)\n",
    "\n",
    "plot_speed_to_tree_count(aggregated_inner_data)"
   ]
  },
  {
   "attachments": {},
   "cell_type": "markdown",
   "metadata": {},
   "source": [
    "#### Comments\n",
    "We can see that the outliers have decreased. Still, there are some outliers left, which we can't easily filter out.\n",
    "One Solution would be filtering out longer streets or setting number of trees into relation with the length of the street. \n",
    "\n",
    "For this project we will leave it as it is and continue with the correlation calculation."
   ]
  },
  {
   "cell_type": "code",
   "execution_count": null,
   "metadata": {},
   "outputs": [],
   "source": [
    "df = inner_city_data.copy()\n",
    "\n",
    "df_grouped = df.groupby(['speed_limit']).size().reset_index(name='tree_count')\n",
    "\n",
    "\n",
    "# Pivot the DataFrame to get tree types as columns\n",
    "df_pivot = df.pivot_table(index='speed_limit', columns='gattung_deutsch', aggfunc='size', fill_value=0)\n",
    " \n",
    "df_merged = df_grouped.merge(df_pivot, on='speed_limit')\n",
    "\n",
    "correlation = df_merged.corr()\n",
    "speed_limit_corr = correlation[['speed_limit']].sort_values(by='speed_limit', ascending=False)"
   ]
  },
  {
   "attachments": {},
   "cell_type": "markdown",
   "metadata": {},
   "source": [
    "### 5. Visualize the correlation between planted trees and speed limits\n"
   ]
  },
  {
   "cell_type": "code",
   "execution_count": null,
   "metadata": {},
   "outputs": [],
   "source": [
    "import seaborn as sns\n",
    "import matplotlib.pyplot as plt\n",
    "\n",
    "plt.figure(figsize=(5, 15))  # Specify the size of your heatmap\n",
    "sns.heatmap(speed_limit_corr, annot=True, cmap='coolwarm', vmin=-1, vmax=1)\n",
    "plt.title(\"Correlation Heatmap for Speed Limit\")\n",
    "plt.show()"
   ]
  },
  {
   "attachments": {},
   "cell_type": "markdown",
   "metadata": {},
   "source": [
    "### 6. Conclusion\n",
    "The goal of this project was to investigate the correlation between the number of trees planted and the speed limits on roads in Berlin. Contrary to the initial expectation, the data does not show a negative correlation. Instead, the correlation is slightly positive, ranging between 0 and 0.2.\n",
    "\n",
    "A plausible explanation for this unexpected outcome is that longer roads, which tend to have higher speed limits, also accumulate more trees due to their length. Some of these longer roads, specifically Bundesautobahnen and Bundesstraßen, can be considered as outliers and have been filtered. Despite filtering them out, the impact of the remaining ones seems significant enough to influence the correlation results.\n",
    "\n",
    "This conclusion underlines the importance of careful data processing and the influence of outliers on the results of a statistical analysis. \n",
    "The findings also emphasize the complexities involved in making accurate predictions and the potential for unexpected results even when reasoning about the data seems sound.\n",
    "\n",
    "### Outlook\n",
    "Future work could involve refining the data cleaning process to address the influence of longer roads. For instance, streets could be filtered based on length, or the number of trees could be standardized by street length to adjust for the size of different roads. Another approach could be to eliminate streets with speed limits above a certain threshold, like 50 km/h, to focus on inter city streets.\n",
    "\n",
    "Additionally, it could be beneficial to explore the correlation with other factors, such as traffic volume, road width, or the proximity of parks and green areas. The role of urban planning policies could also be an interesting aspect to consider, as they may influence both the placement of trees and the establishment of speed limits.\n",
    "\n",
    "Ultimately, while the project's results deviated from my initial hypothesis, it provided valuable insights into the nature of data analysis. It underscored the importance of careful data preprocessing, the handling of outliers, and the challenges in making accurate predictions. These lessons can be instrumental in future data analysis projects, both in the context of advanced methods of software engineering and beyond."
   ]
  }
 ],
 "metadata": {
  "kernelspec": {
   "display_name": "env",
   "language": "python",
   "name": "python3"
  },
  "language_info": {
   "codemirror_mode": {
    "name": "ipython",
    "version": 3
   },
   "file_extension": ".py",
   "mimetype": "text/x-python",
   "name": "python",
   "nbconvert_exporter": "python",
   "pygments_lexer": "ipython3",
   "version": "3.11.3"
  },
  "orig_nbformat": 4
 },
 "nbformat": 4,
 "nbformat_minor": 2
}
